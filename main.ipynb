{
 "cells": [
  {
   "cell_type": "code",
   "execution_count": 8,
   "metadata": {},
   "outputs": [],
   "source": [
    "# Imports\n",
    "import pandas as pd\n",
    "from selenium import webdriver\n",
    "from selenium.webdriver.common.by import By"
   ]
  },
  {
   "cell_type": "code",
   "execution_count": 62,
   "metadata": {},
   "outputs": [
    {
     "name": "stdout",
     "output_type": "stream",
     "text": [
      "1\n"
     ]
    }
   ],
   "source": [
    "\n",
    "from time import time\n",
    "# Call selenium webdriver\n",
    "driver = webdriver.Chrome()\n",
    "# Fill login page with user and password\n",
    "base_url = \"https://devopsdays.org/events\"\n",
    "driver.get(base_url)\n",
    "\n",
    "all_elements = driver.find_elements(By.CSS_SELECTOR, \"body > div > div > div\")\n",
    "print(len(all_elements))\n",
    "\n",
    "all_elements = all_elements[0].find_elements(By.CLASS_NAME, \"row\")\n",
    "print(len(all_elements))\n",
    "\n",
    "upcoming_events = all_elements[1]\n",
    "past_events = all_elements[3]"
   ]
  },
  {
   "cell_type": "code",
   "execution_count": 95,
   "metadata": {},
   "outputs": [],
   "source": [
    "months = [\"JANUARY\", \"FEBRUARY\", \"MARCH\", \"APRIL\", \"MAY\", \"JUNE\",\n",
    "          \"JULY\", \"AUGUST\", \"SEPTEMBER\", \"OCTOBER\", \"NOVEMBER\", \"DECEMBER\", \"TBD\"]"
   ]
  },
  {
   "cell_type": "code",
   "execution_count": 143,
   "metadata": {},
   "outputs": [
    {
     "data": {
      "text/html": [
       "<div>\n",
       "<style scoped>\n",
       "    .dataframe tbody tr th:only-of-type {\n",
       "        vertical-align: middle;\n",
       "    }\n",
       "\n",
       "    .dataframe tbody tr th {\n",
       "        vertical-align: top;\n",
       "    }\n",
       "\n",
       "    .dataframe thead th {\n",
       "        text-align: right;\n",
       "    }\n",
       "</style>\n",
       "<table border=\"1\" class=\"dataframe\">\n",
       "  <thead>\n",
       "    <tr style=\"text-align: right;\">\n",
       "      <th></th>\n",
       "      <th>month</th>\n",
       "      <th>year</th>\n",
       "      <th>str_date</th>\n",
       "      <th>city</th>\n",
       "    </tr>\n",
       "  </thead>\n",
       "  <tbody>\n",
       "    <tr>\n",
       "      <th>0</th>\n",
       "      <td>MARCH</td>\n",
       "      <td>2024</td>\n",
       "      <td>Mar 13 - 14</td>\n",
       "      <td>Salt Lake City</td>\n",
       "    </tr>\n",
       "    <tr>\n",
       "      <th>1</th>\n",
       "      <td>MARCH</td>\n",
       "      <td>2024</td>\n",
       "      <td>Mar 15</td>\n",
       "      <td>Los Angeles</td>\n",
       "    </tr>\n",
       "    <tr>\n",
       "      <th>2</th>\n",
       "      <td>MARCH</td>\n",
       "      <td>2024</td>\n",
       "      <td>Mar 18 - 19</td>\n",
       "      <td>Kraków</td>\n",
       "    </tr>\n",
       "    <tr>\n",
       "      <th>3</th>\n",
       "      <td>MARCH</td>\n",
       "      <td>2024</td>\n",
       "      <td>Mar 21 - 22</td>\n",
       "      <td>Singapore</td>\n",
       "    </tr>\n",
       "    <tr>\n",
       "      <th>4</th>\n",
       "      <td>APRIL</td>\n",
       "      <td>2024</td>\n",
       "      <td>Apr 6</td>\n",
       "      <td>Goiânia</td>\n",
       "    </tr>\n",
       "  </tbody>\n",
       "</table>\n",
       "</div>"
      ],
      "text/plain": [
       "   month  year     str_date            city\n",
       "0  MARCH  2024  Mar 13 - 14  Salt Lake City\n",
       "1  MARCH  2024       Mar 15     Los Angeles\n",
       "2  MARCH  2024  Mar 18 - 19          Kraków\n",
       "3  MARCH  2024  Mar 21 - 22       Singapore\n",
       "4  APRIL  2024        Apr 6         Goiânia"
      ]
     },
     "execution_count": 143,
     "metadata": {},
     "output_type": "execute_result"
    }
   ],
   "source": [
    "raw_events_df = pd.DataFrame(columns=[\"month\", \"year\", \"str_date\", \"city\"])\n",
    "\n",
    "month_year = \"\"\n",
    "for item in upcoming_events.text.split(\"\\n\"):\n",
    "    if any(map(lambda x: x in item, months)):\n",
    "        month_year = item\n",
    "    else:\n",
    "        tam = len(raw_events_df)\n",
    "        if \" \" in month_year:\n",
    "            month, year = month_year.split(\" \")\n",
    "            str_date, city = item.split(\":\")\n",
    "        else:\n",
    "            city = item\n",
    "            month, year, str_date = month_year, month_year, month_year\n",
    "        raw_events_df.loc[tam] = [month.strip(), year.strip(), str_date.strip(), city.strip()]\n",
    "\n",
    "month_year = \"\"\n",
    "for item in filter(lambda x: x != '', past_events.text.split(\"\\n\")):\n",
    "    try:\n",
    "        month_year = int(item)\n",
    "    except:\n",
    "        tam = len(raw_events_df)\n",
    "        raw_events_df.loc[tam] = ['', month_year, '', item]\n",
    "        \n",
    "raw_events_df.head(5)"
   ]
  },
  {
   "cell_type": "code",
   "execution_count": 144,
   "metadata": {},
   "outputs": [],
   "source": [
    "driver.close()"
   ]
  },
  {
   "cell_type": "code",
   "execution_count": 216,
   "metadata": {},
   "outputs": [],
   "source": [
    "cities_df = pd.read_csv(\"events_city_country.csv\")\n",
    "cities_df.drop_duplicates(subset=\"city\", inplace=True)\n",
    "\n",
    "join_df = raw_events_df.join(cities_df.set_index(\"city\"), on=\"city\", how=\"left\")\n",
    "join_df = join_df[['month', 'year', 'city', 'country']]\n",
    "# Fix missing\n",
    "join_df.loc[456] = [\"\", \"2022\", \"tbd\", \"Ukraine\"]\n",
    "join_df.loc[505] = [\"\", \"2023\", \"tbd\", \"Ukraine\"]\n",
    "join_df.loc[507] = [\"\", \"2023\", \"Chicago\", \"United States\"]\n",
    "\n",
    "seasons = {\"\\(Spring\\)\": \"\", \"\\(Summer\\)\": \"\", \"\\(Fall\\)\": \"\", \"\\(Winter\\)\": \"\",\"\\(Winterthur\\)\": \"\", \"\\(Autumn\\)\": \"\"}\n",
    "# Regex replace:  (Spring), (Summer), (Fall), (Winter), (Winterthur) by \"\"\n",
    "join_df[['month', 'city']] = join_df[['month', 'city']].replace(seasons, regex=True)\n",
    "join_df[['month', 'city', 'country']] = join_df[['month', 'city', 'country']].map(str.strip)\n",
    "\n",
    "join_df.to_csv(\"events.csv\", index=False)\n"
   ]
  },
  {
   "cell_type": "code",
   "execution_count": 209,
   "metadata": {},
   "outputs": [],
   "source": []
  },
  {
   "cell_type": "code",
   "execution_count": 210,
   "metadata": {},
   "outputs": [],
   "source": []
  },
  {
   "cell_type": "code",
   "execution_count": null,
   "metadata": {},
   "outputs": [],
   "source": []
  }
 ],
 "metadata": {
  "kernelspec": {
   "display_name": "dod_scrap",
   "language": "python",
   "name": "python3"
  },
  "language_info": {
   "codemirror_mode": {
    "name": "ipython",
    "version": 3
   },
   "file_extension": ".py",
   "mimetype": "text/x-python",
   "name": "python",
   "nbconvert_exporter": "python",
   "pygments_lexer": "ipython3",
   "version": "3.11.7"
  }
 },
 "nbformat": 4,
 "nbformat_minor": 2
}
